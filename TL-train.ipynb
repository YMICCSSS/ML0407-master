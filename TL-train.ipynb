{
 "nbformat": 4,
 "nbformat_minor": 0,
 "metadata": {
  "colab": {
   "name": "TL-train.ipynb",
   "provenance": [],
   "collapsed_sections": [],
   "mount_file_id": "18vm4cL4PfJOOaz2_8w0djZX-S2psLZA-",
   "authorship_tag": "ABX9TyOQ+aTX64zx+4Pu9LaKXJqV"
  },
  "kernelspec": {
   "name": "python3",
   "language": "python",
   "display_name": "Python 3"
  },
  "pycharm": {
   "stem_cell": {
    "cell_type": "raw",
    "source": [
     "\n"
    ],
    "metadata": {
     "collapsed": false
    }
   }
  }
 },
 "cells": [
  {
   "cell_type": "code",
   "metadata": {
    "id": "jkXkvu6PxYSJ",
    "colab_type": "code",
    "colab": {
     "base_uri": "https://localhost:8080/",
     "height": 423
    },
    "outputId": "9f083d4c-4a25-4dac-ad8e-40af453c55e5",
    "executionInfo": {
     "status": "ok",
     "timestamp": 1588065568308,
     "user_tz": -480,
     "elapsed": 12893,
     "user": {
      "displayName": "呂明錦",
      "photoUrl": "",
      "userId": "01146871132728266768"
     }
    }
   },
   "source": [
    "import pandas as pd\n",
    "import glob\n",
    "\n",
    "#先不讀取圖片，真的要訓練才讀\n",
    "#glob是顯示圖片路徑\n",
    "catfn = glob.glob(\"dataset/train/cat.*\")\n",
    "catans = [0] *len(catfn)\n",
    "dogfn = glob.glob(\"dataset/train/dog.*\")\n",
    "dogans = [1] *len(dogfn)\n",
    "\n",
    "#\"target\":catans +dogans =矩陣相加\n",
    "df = pd.DataFrame({\n",
    "    \"path\":catfn +dogfn,\n",
    "    \"target\":catans +dogans\n",
    "})\n",
    "df"
   ],
   "execution_count": null,
   "outputs": []
  },
  {
   "cell_type": "code",
   "metadata": {
    "id": "bTaI-yRex7Za",
    "colab_type": "code",
    "colab": {
     "base_uri": "https://localhost:8080/",
     "height": 535
    },
    "outputId": "0f4832d4-54d9-47f0-ec12-12f3d53d004e",
    "executionInfo": {
     "status": "ok",
     "timestamp": 1588065572248,
     "user_tz": -480,
     "elapsed": 16781,
     "user": {
      "displayName": "呂明錦",
      "photoUrl": "",
      "userId": "01146871132728266768"
     }
    }
   },
   "source": [
    "from tensorflow.keras.preprocessing.image import load_img\n",
    "p = \"dataset/train/dog.3014.jpg\"\n",
    "img = load_img(p)\n",
    "print(img.size)\n",
    "img"
   ],
   "execution_count": null,
   "outputs": []
  },
  {
   "cell_type": "code",
   "metadata": {
    "id": "k7w7mgZcBpx1",
    "colab_type": "code",
    "colab": {
     "base_uri": "https://localhost:8080/",
     "height": 1000
    },
    "outputId": "5d123260-20a7-4084-d2a2-0a198e95661e",
    "executionInfo": {
     "status": "ok",
     "timestamp": 1588065572782,
     "user_tz": -480,
     "elapsed": 17255,
     "user": {
      "displayName": "呂明錦",
      "photoUrl": "",
      "userId": "01146871132728266768"
     }
    }
   },
   "source": [
    "from tensorflow.keras.applications.vgg16 import VGG16\n",
    "#include_top  需不需要模型中的MLP  設成False \n",
    "# input_shape 當初訓練是(224,224,,3)的圖形，建議設成跟當初差不多的大小\n",
    "#cnn.layers= list\n",
    "cnn = VGG16(include_top=False,input_shape=(224,224,3))\n",
    "cnn.summary()\n",
    "#Total params: 14,714,688\n",
    "#Trainable params: 14,714,688,Trainable照著負斜率去調整\n",
    "#Non-trainable params: 0  ,Non-trainable1不照著負斜率去調整\n",
    "cnn.layers"
   ],
   "execution_count": null,
   "outputs": []
  },
  {
   "cell_type": "code",
   "metadata": {
    "id": "0ZkJjFDbCSaQ",
    "colab_type": "code",
    "colab": {}
   },
   "source": [
    "from tensorflow.keras.layers import Dense,Dropout,Flatten\n",
    "from tensorflow.keras.models import Sequential\n",
    "model = Sequential()\n",
    "for i in cnn.layers:\n",
    "  #trainable一定要設,因為如果都照著負斜率去調整，會被一開始的CNN拖累，所以設了此條件，之後Dense的參數就不會受到VGG16模型影響 compile前要設定好\n",
    "  i.trainable = False\n",
    "  model.add(i)\n",
    "  \n",
    "#資料很多就可以有很多Dense參數，資料少就用較少的參數\n",
    "model.add(Flatten())\n",
    "model.add(Dense(256, activation=\"relu\"))\n",
    "model.add(Dropout(0.25))\n",
    "model.add(Dense(2, activation=\"softmax\"))\n",
    "model.summary()\n",
    "#Trainable params: 14,714,688,Trainable  =  照著負斜率去調整\n",
    "#Non-trainable params: 0  ,Non-trainable1  =  不照著負斜率去調整\n",
    "#Sequential()只能一層疊一層，之後會教如何平行建立\n"
   ],
   "execution_count": null,
   "outputs": []
  },
  {
   "cell_type": "code",
   "metadata": {
    "id": "yGeISg2UU4rJ",
    "colab_type": "code",
    "colab": {}
   },
   "source": [
    "#Flatten()(cnn.output)的效果等於\n",
    "# def test():\n",
    "    #return int\n",
    "#test()(3.14) =3\n",
    "#model的效果等同於sequential，equential只能一層疊一層，model更有彈性，可以一次傳入兩個圖片，做平行的合併\n",
    "#如果不是  tensorflow compile做的，就要Normalization\n",
    "from tensorflow.keras.models import Model\n",
    "from tensorflow.keras.layers import Dense, Dropout, Flatten\n",
    "from tensorflow.keras.layers import BatchNormalization\n",
    "for l in cnn.layers:\n",
    "    l.trainable = False\n",
    "x = BatchNormalization()(cnn.output)\n",
    "x = Flatten()(x)\n",
    "x = Dense(64, activation=\"relu\")(x)\n",
    "x = Dropout(0.25)(x)\n",
    "out = Dense(2, activation=\"softmax\")(x)\n",
    "model = Model(inputs=cnn.input, outputs=out)\n",
    "model.summary()"
   ],
   "execution_count": null,
   "outputs": []
  },
  {
   "cell_type": "code",
   "metadata": {
    "id": "J_wYxZ0fnRMh",
    "colab_type": "code",
    "colab": {}
   },
   "source": [
    "#自動\n",
    "\n",
    "\n",
    "from tensorflow.keras.losses import SparseCategoricalCrossentropy\n",
    "model.compile(loss=SparseCategoricalCrossentropy(),\n",
    "              optimizer=\"adam\",\n",
    "              metrics=[\"accuracy\"])\n",
    "\n"
   ],
   "execution_count": null,
   "outputs": []
  },
  {
   "cell_type": "code",
   "metadata": {
    "id": "6cigqaB-b6Fh",
    "colab_type": "code",
    "colab": {
     "base_uri": "https://localhost:8080/",
     "height": 88
    },
    "outputId": "1b387f6a-7452-49d3-fa80-b1edb8978ace",
    "executionInfo": {
     "status": "ok",
     "timestamp": 1588065573265,
     "user_tz": -480,
     "elapsed": 17665,
     "user": {
      "displayName": "呂明錦",
      "photoUrl": "",
      "userId": "01146871132728266768"
     }
    }
   },
   "source": [
    "# 好習慣: 全部轉成numpy array\n",
    "import numpy as np\n",
    "from sklearn.model_selection import train_test_split\n",
    "x, y = np.array(df[\"path\"]), np.array(df[\"target\"])\n",
    "x_train, x_test, y_train, y_test = train_test_split(x, y, test_size=0.1)\n",
    "x_train"
   ],
   "execution_count": null,
   "outputs": []
  },
  {
   "cell_type": "code",
   "metadata": {
    "id": "qI1TvyIracSK",
    "colab_type": "code",
    "colab": {
     "base_uri": "https://localhost:8080/",
     "height": 35
    },
    "outputId": "e805a675-8f1f-487c-ebd0-4960e7d69a09",
    "executionInfo": {
     "status": "ok",
     "timestamp": 1588065573267,
     "user_tz": -480,
     "elapsed": 17629,
     "user": {
      "displayName": "呂明錦",
      "photoUrl": "",
      "userId": "01146871132728266768"
     }
    }
   },
   "source": [
    "#這是預處理?用cafe版本的預處理  每個值都-127.5\n",
    "#之所以要遇處理圖片，是因為框架有假設一個範圍(此案例是用cafe方式讓值在一定範圍)\n",
    "\n",
    "#BATCH=10 10筆一次調整\n",
    "# (Tensor). tensorflow運算中最基本的單位，通常是高維度的矩陣\n",
    "#preprocess_input  =載入VGG比較喜歡的預處理方式對資料作處理\n",
    "from tensorflow.keras.applications.vgg16 import preprocess_input\n",
    "\n",
    "def dataflow(x, y, BATCH=10):\n",
    "    idx = np.random.randint(0, x.shape[0], size=BATCH)\n",
    "    img_raw, img_process = [], []\n",
    "    for p in x[idx]:\n",
    "        img = load_img(p, target_size=(224, 224))\n",
    "        img_np = np.array(img)\n",
    "        img_raw.append(img_np)\n",
    "        img_pre = preprocess_input(img_np)\n",
    "        img_process.append(img_pre)\n",
    "    return (np.array(img_raw), \n",
    "            np.array(img_process), \n",
    "            np.array(y[idx]))\n",
    "    \n",
    "data = dataflow(x_train, y_train)\n",
    "print(data[0].shape, data[1].shape, data[2].shape)\n",
    "# return value: (原圖, 預處理過圖, 答案)\n",
    "\n"
   ],
   "execution_count": null,
   "outputs": []
  },
  {
   "cell_type": "code",
   "metadata": {
    "id": "cYgrBZWshXOy",
    "colab_type": "code",
    "colab": {}
   },
   "source": [
    "\n",
    "for i in range(10):\n",
    "    print(\"-\" * 15, i, \"-\" * 15)\n",
    "    raw, img, ans = dataflow(x_train, y_train)\n",
    "    train_result = model.train_on_batch(img, ans)\n",
    "    print(\"Train:\", train_result)\n",
    "    raw, img, ans = dataflow(x_test, y_test)\n",
    "    test_result = model.test_on_batch(img, ans)\n",
    "    print(\"Validate:\", test_result)\n",
    "\n",
    "#自寫訓練函式\n",
    "#因為cafe放大了輸出值127倍 ，所以出來的值會非常右邊及非常左邊，趨近於0  or 1"
   ],
   "execution_count": null,
   "outputs": []
  },
  {
   "cell_type": "code",
   "metadata": {
    "id": "UR4lEKjqruWc",
    "colab_type": "code",
    "colab": {
     "base_uri": "https://localhost:8080/",
     "height": 194
    },
    "outputId": "b3be316b-208f-422d-f76f-f61f39c64447",
    "executionInfo": {
     "status": "ok",
     "timestamp": 1588065643928,
     "user_tz": -480,
     "elapsed": 88231,
     "user": {
      "displayName": "呂明錦",
      "photoUrl": "",
      "userId": "01146871132728266768"
     }
    }
   },
   "source": [
    "\n",
    "\n",
    "# 正常機率: [很小很小, 很大很大]\n",
    "# 不正常機率: [1, 0]\n",
    "model.predict(img)\n",
    "\n"
   ],
   "execution_count": null,
   "outputs": []
  },
  {
   "cell_type": "code",
   "metadata": {
    "id": "NpuJRLxDsbQ7",
    "colab_type": "code",
    "colab": {
     "base_uri": "https://localhost:8080/",
     "height": 52
    },
    "outputId": "8aaa9fcb-0c93-4078-dc33-9693a045c64f",
    "executionInfo": {
     "status": "ok",
     "timestamp": 1588066075535,
     "user_tz": -480,
     "elapsed": 33491,
     "user": {
      "displayName": "呂明錦",
      "photoUrl": "",
      "userId": "01146871132728266768"
     }
    }
   },
   "source": [
    "raw,img,ans = dataflow(x_test, y_test,100)\n",
    "model.evaluate(img,ans)"
   ],
   "execution_count": null,
   "outputs": []
  },
  {
   "cell_type": "code",
   "metadata": {
    "id": "EQFkyWGm3Dcb",
    "colab_type": "code",
    "colab": {}
   },
   "source": [
    "#Model(非SEquential):沒有predict_classes\n",
    "#argmax = 找最大值索引\n",
    "#axis=1 =找每一行(筆)的最大值\n",
    "model.predict(img).argmax(axis=1)\n",
    "pre"
   ],
   "execution_count": null,
   "outputs": []
  },
  {
   "cell_type": "code",
   "metadata": {
    "id": "9nSu9roQ4J6c",
    "colab_type": "code",
    "colab": {}
   },
   "source": [
    "import matplotlib.pyplot as plt\n",
    "%matplotlib inline\n",
    "\n",
    "names = [\"Cat\", \"Dog\"]\n",
    "idx = np.nonzero(pre != ans)[0]\n",
    "false_pre_img = raw[idx]\n",
    "false_pre_label = ans[idx]\n",
    "false_pre_predict = pre[idx]\n",
    "\n",
    "width = 10\n",
    "height = len(idx) // width + 1\n",
    "plt.figure(figsize=(14, 20))\n",
    "for i, img in enumerate(false_pre_img):\n",
    "    plt.subplot(height, width, i+1)\n",
    "    t = \"[P]:{}\\n[O]:{}\".format(names[false_pre_predict[i]],\n",
    "                                names[false_pre_label[i]])\n",
    "    plt.title(t)\n",
    "    plt.axis(\"off\")\n",
    "    plt.imshow(img)"
   ],
   "execution_count": null,
   "outputs": []
  }
 ]
}